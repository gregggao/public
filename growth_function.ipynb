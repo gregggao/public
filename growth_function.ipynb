{
 "cells": [
  {
   "cell_type": "code",
   "execution_count": 2,
   "metadata": {},
   "outputs": [],
   "source": [
    "import numpy as np\n",
    "from scipy.special import binom\n",
    "import math"
   ]
  },
  {
   "cell_type": "code",
   "execution_count": 3,
   "metadata": {},
   "outputs": [
    {
     "data": {
      "text/plain": [
       "361611"
      ]
     },
     "execution_count": 3,
     "metadata": {},
     "output_type": "execute_result"
    }
   ],
   "source": [
    "#For small N\n",
    "\n",
    "def growth_function(points, vc_dim):\n",
    "    sum_list = []\n",
    "    \n",
    "    for i in range(vc_dim):\n",
    "        a = binom(2*points, i)\n",
    "        sum_list.append(a)\n",
    "    sum_array = np.array(sum_list)\n",
    "    output = np.sum(sum_array)\n",
    "        \n",
    "    return output\n",
    "\n",
    "def vc_bound(points, delta, vc_dim):\n",
    "    \n",
    "    output = np.sqrt((8/points)*np.log((4*growth_function(points, vc_dim))/delta))\n",
    "    \n",
    "    return output\n",
    "\n",
    "epsilon = 0.05\n",
    "delta = 0.05\n",
    "N = 11\n",
    "vc_dim = 10\n",
    "\n",
    "bound = vc_bound(N, delta, vc_dim)\n",
    "\n",
    "while epsilon < bound:\n",
    "    N += 1\n",
    "    bound = vc_bound(N, delta, vc_dim)\n",
    "    \n",
    "\n",
    "N    "
   ]
  },
  {
   "cell_type": "code",
   "execution_count": null,
   "metadata": {},
   "outputs": [],
   "source": [
    "#For large N\n",
    "\n",
    "def Stirling_approx(n):\n",
    "    \n",
    "    output = n*np.log(n) - n\n",
    "    \n",
    "    return output\n",
    "\n",
    "def growth_function_large_N(points, vc_dim):\n",
    "    sum_list = [1]\n",
    "    \n",
    "    for i in range(1, vc_dim):\n",
    "        a = Stirling_approx(points) - Stirling_approx(i) - Stirling_approx(points - i)\n",
    "        sum_list.append(a)\n",
    "    sum_array = np.array(sum_list)\n",
    "    output = np.sum(sum_array)\n",
    "    \n",
    "    return output"
   ]
  }
 ],
 "metadata": {
  "kernelspec": {
   "display_name": "Python 3",
   "language": "python",
   "name": "python3"
  },
  "language_info": {
   "codemirror_mode": {
    "name": "ipython",
    "version": 3
   },
   "file_extension": ".py",
   "mimetype": "text/x-python",
   "name": "python",
   "nbconvert_exporter": "python",
   "pygments_lexer": "ipython3",
   "version": "3.7.4"
  }
 },
 "nbformat": 4,
 "nbformat_minor": 4
}
