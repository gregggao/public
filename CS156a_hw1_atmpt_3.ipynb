{
 "cells": [
  {
   "cell_type": "code",
   "execution_count": 2,
   "metadata": {},
   "outputs": [],
   "source": [
    "import numpy as np\n",
    "import random as rand\n",
    "from tqdm import tqdm"
   ]
  },
  {
   "cell_type": "code",
   "execution_count": 31,
   "metadata": {},
   "outputs": [],
   "source": [
    "# Create random points and line to classify\n",
    "def random_points(coor_x, coor_y, num_points = 10):\n",
    "    array = np.array([[1,1,1]])\n",
    "    for i in range(num_points):\n",
    "        x, y = np.random.uniform(-1, 1), np.random.uniform(-1, 1)\n",
    "        array = np.concatenate((array, np.array([[1, x, y]])), axis = 0)\n",
    "    array = np.delete(array,0,0)\n",
    "    \n",
    "    line = np.array([coor_x[1]*coor_y[0]-coor_x[0]*coor_y[1], coor_y[1]-coor_y[0], coor_x[0]-coor_y[1]])\n",
    "        \n",
    "    z_array = np.zeros((len(array),4))\n",
    "    z_array[:,:-1]= array\n",
    "    for i in range(num_points):\n",
    "        z = np.dot(array[i], line)\n",
    "        z_array[i,3] = int(z)\n",
    "    return z_array, array"
   ]
  },
  {
   "cell_type": "code",
   "execution_count": 32,
   "metadata": {},
   "outputs": [],
   "source": [
    "# Perceptron learning algorithm\n",
    "def PLA(num_points, sampling = 100):\n",
    "    dimensions = 2\n",
    "    w = [0 for i in range(dimensions+1)]\n",
    "    iterations = 0\n",
    "    coor_x = np.array([(rand.uniform(-1,1)),(rand.uniform(-1,1))])\n",
    "    coor_y = np.array([(rand.uniform(-1,1)),(rand.uniform(-1,1))])\n",
    "    test_array = random_points(coor_x, coor_y, num_points)\n",
    "    points = test_array[1]\n",
    "    results = test_array[0]\n",
    "\n",
    "    for i in range(num_points):\n",
    "        h = int(np.sign(np.dot(w, points[i])))\n",
    "        \n",
    "        while h != results[:,3][i]:\n",
    "                w += results[:,3][i]*points[i]\n",
    "                h = int(np.sign(np.dot(w, points[i])))\n",
    "                iterations += 1\n",
    "                \n",
    "    g = w\n",
    "    \n",
    "    #Probability\n",
    "    prob_data = random_points(coor_x, coor_y, sampling)\n",
    "    misclassified = 0\n",
    "    for i in range(sampling):\n",
    "        p = int(np.sign(np.dot(g, prob_data[1][i])))\n",
    "        if p != prob_data[0][:,3][i]:\n",
    "            misclassified += 1\n",
    "    probability = misclassified/sampling\n",
    "    \n",
    "    return iterations, probability\n",
    "\n"
   ]
  },
  {
   "cell_type": "code",
   "execution_count": 33,
   "metadata": {},
   "outputs": [],
   "source": [
    "coor_x = np.array([(rand.uniform(-1,1)),(rand.uniform(-1,1))])\n",
    "coor_y = np.array([(rand.uniform(-1,1)),(rand.uniform(-1,1))])"
   ]
  },
  {
   "cell_type": "code",
   "execution_count": 34,
   "metadata": {},
   "outputs": [
    {
     "data": {
      "text/plain": [
       "(array([[ 1.        , -0.42398893,  0.0116611 ,  0.        ],\n",
       "        [ 1.        ,  0.47378514,  0.3116052 ,  0.        ],\n",
       "        [ 1.        ,  0.3050791 ,  0.15157766,  0.        ],\n",
       "        [ 1.        , -0.27067941, -0.75290655,  0.        ],\n",
       "        [ 1.        , -0.55430187, -0.41572655,  0.        ],\n",
       "        [ 1.        , -0.7953875 ,  0.53790259,  0.        ],\n",
       "        [ 1.        ,  0.78038529,  0.29242147,  0.        ],\n",
       "        [ 1.        , -0.09789961, -0.22131822,  0.        ],\n",
       "        [ 1.        , -0.70599934, -0.65353783, -1.        ],\n",
       "        [ 1.        ,  0.06700694,  0.76252472,  0.        ]]),\n",
       " array([[ 1.        , -0.42398893,  0.0116611 ],\n",
       "        [ 1.        ,  0.47378514,  0.3116052 ],\n",
       "        [ 1.        ,  0.3050791 ,  0.15157766],\n",
       "        [ 1.        , -0.27067941, -0.75290655],\n",
       "        [ 1.        , -0.55430187, -0.41572655],\n",
       "        [ 1.        , -0.7953875 ,  0.53790259],\n",
       "        [ 1.        ,  0.78038529,  0.29242147],\n",
       "        [ 1.        , -0.09789961, -0.22131822],\n",
       "        [ 1.        , -0.70599934, -0.65353783],\n",
       "        [ 1.        ,  0.06700694,  0.76252472]]))"
      ]
     },
     "execution_count": 34,
     "metadata": {},
     "output_type": "execute_result"
    }
   ],
   "source": [
    "coor_x = np.array([(rand.uniform(-1,1)),(rand.uniform(-1,1))])\n",
    "coor_y = np.array([(rand.uniform(-1,1)),(rand.uniform(-1,1))])\n",
    "random_points(coor_x, coor_y, num_points = 10)"
   ]
  },
  {
   "cell_type": "code",
   "execution_count": null,
   "metadata": {},
   "outputs": [],
   "source": []
  }
 ],
 "metadata": {
  "kernelspec": {
   "display_name": "Python 3",
   "language": "python",
   "name": "python3"
  },
  "language_info": {
   "codemirror_mode": {
    "name": "ipython",
    "version": 3
   },
   "file_extension": ".py",
   "mimetype": "text/x-python",
   "name": "python",
   "nbconvert_exporter": "python",
   "pygments_lexer": "ipython3",
   "version": "3.7.4"
  }
 },
 "nbformat": 4,
 "nbformat_minor": 4
}
