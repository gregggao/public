{
 "cells": [
  {
   "cell_type": "code",
   "execution_count": 1,
   "metadata": {},
   "outputs": [],
   "source": [
    "import numpy as np\n",
    "import math"
   ]
  },
  {
   "cell_type": "code",
   "execution_count": 18,
   "metadata": {},
   "outputs": [],
   "source": [
    "class LinReg:\n",
    "    def __init__(self, dim):\n",
    "        self.dim = max(1, dim)\n",
    "        self.weights = np.zeros((1+dim,1)) #adding one for offset\n",
    "\n",
    "    def X_reshape(self,X):\n",
    "        num_examples = X.shape[0]\n",
    "        real_X = np.c_[np.ones(num_examples), X]\n",
    "        return real_X\n",
    "    \n",
    "    def predict(self,X):\n",
    "        real_X = self.X_reshape(X)\n",
    "        cur_h = np.matmul(real_X, self.weights)\n",
    "        return cur_h\n",
    "\n",
    "    def train(self,X,Y):\n",
    "        #for the sake of programming ease, let's just assume inputs are numpy ndarrays\n",
    "        #and are the proper shapes (X = (n, dim), y = (n,1))\n",
    "        real_X = self.X_reshape(X)\n",
    "        pinv_X = np.linalg.pinv(real_X)\n",
    "        self.weights = np.dot(pinv_X,Y)\n",
    "        \n",
    "class LinRegNLT2(LinReg):\n",
    "    def __init__(self, dim, k, l_reg):\n",
    "        #want squares of both elements, both elts multiplied, then abs sub and add\n",
    "        # = 2*dim + 3 \n",
    "        self.dim = (2*dim + 3)\n",
    "        #adding the x0 bit\n",
    "        self.weights = np.zeros((self.dim + 1, 1))\n",
    "        self.k = int(max(0,k)) # use columns up through k in nonlinear mapping (0-idx)\n",
    "        self.l_reg = l_reg #lambda regularization term\n",
    "        \n",
    "    def set_lambda(self, l_reg):\n",
    "        self.l_reg = l_reg\n",
    "\n",
    "    def set_k(self, k):\n",
    "        self.k = int(max(0,k))\n",
    "\n",
    "    def X_reshape(self,X):\n",
    "        #do the nonlinear transform here\n",
    "        num_ex = X.shape[0] #number of examples\n",
    "        X_mult = np.prod(X, axis=1)\n",
    "        X_sub_mtx = np.c_[ X[:,0], np.multiply(-1, X[:,1:])] #subtraction matrix\n",
    "        X_res = np.c_[np.ones(num_ex), X, np.square(X), X_mult, np.abs(np.sum(X_sub_mtx, axis=1)), np.abs(np.sum(X, axis=1))]\n",
    "        return X_res[:,:(self.k + 1)]\n",
    "\n",
    "    def calc_error(self, X,Y):\n",
    "        num_ex = X.shape[0]\n",
    "        predicted = np.sign(self.predict(X))\n",
    "        num_incorrect = np.sum(np.not_equal(predicted, np.sign(Y)))\n",
    "        prop_incorrect = float(num_incorrect)/float(num_ex)\n",
    "        return prop_incorrect\n",
    "\n",
    "    #training with regularization:\n",
    "    # (ZT*Z + lambda*I)^-1 * ZT*y\n",
    "    def train_reg(self, X,Y):\n",
    "        X_res = self.X_reshape(X)\n",
    "        xtx = np.dot(X_res.T, X_res)\n",
    "        lm = np.multiply(self.l_reg, np.identity(xtx.shape[0])) #lambda*I\n",
    "        X_inv = np.linalg.inv(np.add(xtx, lm))\n",
    "        self.weights = np.dot(X_inv, np.dot(X_res.T, Y))"
   ]
  },
  {
   "cell_type": "code",
   "execution_count": 19,
   "metadata": {},
   "outputs": [],
   "source": [
    "class LFD_Data:\n",
    "    def load_file(self, filename):\n",
    "        ret_X = np.array([])\n",
    "        ret_Y = np.array([])\n",
    "        num_ex = 0 #number of examples\n",
    "        X_dim = 0 #dimension of data\n",
    "        with open(filename) as f:\n",
    "            data = f.readlines()\n",
    "            num_ex = len(data)\n",
    "            X_dim = len(data[0].split()) - 1\n",
    "            for line in data:\n",
    "                cur_XY = [float(x) for x in line.split()]\n",
    "                ret_X = np.concatenate((ret_X, cur_XY[:-1])) #everything but last elt\n",
    "                ret_Y = np.concatenate((ret_Y, [cur_XY[-1]])) #last elt\n",
    "        ret_X = ret_X.reshape((num_ex, X_dim))\n",
    "        self.dim = X_dim\n",
    "        return ret_X, ret_Y\n",
    "            \n",
    "    def __init__(self, trainfile, testfile):\n",
    "        self.dim = 0\n",
    "        self.train_X, self.train_Y = self.load_file(trainfile)\n",
    "        self.test_X, self.test_Y = self.load_file(testfile)"
   ]
  },
  {
   "cell_type": "code",
   "execution_count": null,
   "metadata": {},
   "outputs": [],
   "source": []
  },
  {
   "cell_type": "code",
   "execution_count": 22,
   "metadata": {},
   "outputs": [
    {
     "name": "stdout",
     "output_type": "stream",
     "text": [
      "=== LinReg with NLT using the first 25 examples for training (last 10 for validation) ===\n",
      "k = 3 :\n",
      "E_valid: 0.300000, E_out: 0.420000\n",
      "k = 4 :\n",
      "E_valid: 0.500000, E_out: 0.416000\n",
      "k = 5 :\n",
      "E_valid: 0.200000, E_out: 0.188000\n",
      "k = 6 :\n",
      "E_valid: 0.000000, E_out: 0.084000\n",
      "k = 7 :\n",
      "E_valid: 0.100000, E_out: 0.072000\n",
      "\n",
      "=== LinReg with NLT using the last 10 examples for training (first 25 for validation) ===\n",
      "k = 3 :\n",
      "E_valid: 0.280000, E_out: 0.396000\n",
      "k = 4 :\n",
      "E_valid: 0.360000, E_out: 0.388000\n",
      "k = 5 :\n",
      "E_valid: 0.200000, E_out: 0.284000\n",
      "k = 6 :\n",
      "E_valid: 0.080000, E_out: 0.192000\n",
      "k = 7 :\n",
      "E_valid: 0.120000, E_out: 0.196000\n"
     ]
    }
   ],
   "source": [
    "rwd_train = \"in.dta\"\n",
    "rwd_test = \"out.dta\"\n",
    "l_reg = math.pow(10.0, -3) #actually, doesn't use regularization but just copying over from last hw anyways.\n",
    "\n",
    "# load data from external files and init\n",
    "rwd_data = LFD_Data(rwd_train, rwd_test)\n",
    "rwd_algo = LinRegNLT2(rwd_data.dim, 7, l_reg)\n",
    "\n",
    "#editing from hw6 to make more flexible\n",
    "def rwd_print_error(algo,valid_X, valid_Y, out_X, out_Y):\n",
    "    #ein = algo.calc_error(in_X, in_Y)\n",
    "    e_valid = algo.calc_error(valid_X, valid_Y)\n",
    "    eout = algo.calc_error(out_X, out_Y)\n",
    "    print(\"E_valid: %f, E_out: %f\" % (e_valid, eout))\n",
    "    \n",
    "print(\"=== LinReg with NLT using the first 25 examples for training (last 10 for validation) ===\")\n",
    "my_k = np.arange(3,8) #up through which cols (0-idx to use for training)\n",
    "#train without regularization\n",
    "for k in my_k:\n",
    "    print(\"k = %d :\" % k)\n",
    "    rwd_algo.set_k(k)\n",
    "    rwd_algo.train(rwd_data.train_X[:25,:], rwd_data.train_Y[:25])\n",
    "    rwd_print_error(rwd_algo, rwd_data.train_X[25:,:], rwd_data.train_Y[25:], rwd_data.test_X, rwd_data.test_Y)\n",
    "\n",
    "print(\"\")\n",
    "print(\"=== LinReg with NLT using the last 10 examples for training (first 25 for validation) ===\")\n",
    "my_k = np.arange(3,8) #up through which cols (0-idx to use for training)\n",
    "#train without regularization\n",
    "for k in my_k:\n",
    "    print(\"k = %d :\" % k)\n",
    "    rwd_algo.set_k(k)\n",
    "    rwd_algo.train(rwd_data.train_X[25:,:], rwd_data.train_Y[25:])\n",
    "    rwd_print_error(rwd_algo, rwd_data.train_X[:25,:], rwd_data.train_Y[:25], rwd_data.test_X, rwd_data.test_Y)"
   ]
  },
  {
   "cell_type": "code",
   "execution_count": 25,
   "metadata": {},
   "outputs": [
    {
     "name": "stdout",
     "output_type": "stream",
     "text": [
      "Expected values: \n",
      "e: 0.332915\n",
      "e1: 0.498990\n",
      "e2: 0.500600\n"
     ]
    }
   ],
   "source": [
    "n = 10000\n",
    "e1 = np.random.uniform(0,1, n)\n",
    "e2 = np.random.uniform(0,1, n)\n",
    "e = np.minimum(e1, e2)\n",
    "\n",
    "ev_e1 = np.average(e1)\n",
    "ev_e2 = np.average(e2)\n",
    "ev_e = np.average(e)\n",
    "\n",
    "print(\"Expected values: \")\n",
    "print(\"e: %f\" % ev_e)\n",
    "print(\"e1: %f\" % ev_e1)\n",
    "print(\"e2: %f\" % ev_e2)"
   ]
  },
  {
   "cell_type": "code",
   "execution_count": null,
   "metadata": {},
   "outputs": [],
   "source": []
  },
  {
   "cell_type": "code",
   "execution_count": null,
   "metadata": {},
   "outputs": [],
   "source": []
  }
 ],
 "metadata": {
  "kernelspec": {
   "display_name": "Python 3",
   "language": "python",
   "name": "python3"
  },
  "language_info": {
   "codemirror_mode": {
    "name": "ipython",
    "version": 3
   },
   "file_extension": ".py",
   "mimetype": "text/x-python",
   "name": "python",
   "nbconvert_exporter": "python",
   "pygments_lexer": "ipython3",
   "version": "3.7.4"
  }
 },
 "nbformat": 4,
 "nbformat_minor": 4
}
