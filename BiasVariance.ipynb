{
 "cells": [
  {
   "cell_type": "code",
   "execution_count": 1,
   "metadata": {},
   "outputs": [],
   "source": [
    "import numpy as np\n",
    "import matplotlib.pyplot as plt\n",
    "import math"
   ]
  },
  {
   "cell_type": "code",
   "execution_count": 2,
   "metadata": {},
   "outputs": [],
   "source": [
    "numpairs = 10000\n",
    "shape = (numpairs, 2)\n",
    "hyp = lambda x: math.sin(math.pi * x)\n",
    "hyp_vec = np.vectorize(hyp)\n",
    "xpairs = np.random.uniform(-1,1,(numpairs,1, 2))\n",
    "labels = hyp_vec(xpairs)\n",
    "\n",
    "xaxis = np.arange(-1,1,0.001) \n",
    "xn = xaxis.shape[0]\n",
    "yaxis = hyp_vec(xaxis)"
   ]
  },
  {
   "cell_type": "code",
   "execution_count": 4,
   "metadata": {},
   "outputs": [],
   "source": [
    "h1 = {\"w\": np.array([]), \"var_vals\": np.array([]), \"w_avg\": 0}\n",
    "\n",
    "h1[\"w\"] = np.average(labels, axis=2)\n",
    "\n",
    "h1[\"w_avg\"] = np.average(h1[\"w\"])\n",
    "h1[\"bias_avg\"] = np.average(np.square(np.subtract(h1[\"w_avg\"], yaxis)))                   \n",
    "h1[\"var_avg\"] = np.average(np.square(np.subtract(h1[\"w\"], h1[\"w_avg\"])))"
   ]
  },
  {
   "cell_type": "code",
   "execution_count": 5,
   "metadata": {},
   "outputs": [
    {
     "data": {
      "text/plain": [
       "{'w': array([[-0.57381725],\n",
       "        [ 0.27809656],\n",
       "        [-0.07528017],\n",
       "        ...,\n",
       "        [-0.20853289],\n",
       "        [ 0.19344369],\n",
       "        [ 0.07956812]]),\n",
       " 'var_vals': array([], dtype=float64),\n",
       " 'w_avg': -0.0001402504010962854,\n",
       " 'bias_avg': 0.5000000196701746,\n",
       " 'var_avg': 0.2527198153241266}"
      ]
     },
     "execution_count": 5,
     "metadata": {},
     "output_type": "execute_result"
    }
   ],
   "source": [
    "h1"
   ]
  },
  {
   "cell_type": "code",
   "execution_count": 6,
   "metadata": {},
   "outputs": [],
   "source": [
    "h2 = {\"w\": np.array([]), \"var_vals\": np.array([]), \"w_avg\": 0}\n",
    "\n",
    "for i in range(numpairs):\n",
    "    x = xpairs[i].T\n",
    "    x_pinv = np.linalg.pinv(x)\n",
    "    y = labels[i].T\n",
    "    w = np.dot(x_pinv, y).flatten()\n",
    "    h2[\"w\"] = np.concatenate((h2[\"w\"],w),0)\n",
    "    \n",
    "h2[\"w_avg\"] = np.average(h2[\"w\"])\n",
    "h2[\"bias_avg\"] = np.average(np.square(np.subtract(np.multiply(h2[\"w_avg\"],xaxis),yaxis))) \n",
    "\n",
    "h2[\"gx\"] = np.multiply(np.reshape(h2[\"w\"], (numpairs, 1)), np.reshape(xpairs, (numpairs, 2)))\n",
    "h2[\"gbx\"] = np.multiply(h2[\"w_avg\"], np.reshape(xpairs, (numpairs, 2)))\n",
    "h2[\"var_vals\"] = np.average(np.square(np.subtract(h2[\"gx\"], h2[\"gbx\"])),axis = 1)\n",
    "\n",
    "h2[\"var_avg\"] = np.average(h2[\"var_vals\"])"
   ]
  },
  {
   "cell_type": "code",
   "execution_count": 7,
   "metadata": {},
   "outputs": [
    {
     "data": {
      "text/plain": [
       "{'w': array([0.60736971, 0.8721874 , 2.58770919, ..., 0.22325259, 2.2956398 ,\n",
       "        2.83956258]),\n",
       " 'var_vals': array([0.40966847, 0.14203721, 0.1437421 , ..., 1.25042418, 0.09616079,\n",
       "        0.11209928]),\n",
       " 'w_avg': 1.4215933656288613,\n",
       " 'bias_avg': 0.26862920207337404,\n",
       " 'gx': array([[-0.3623259 , -0.56976513],\n",
       "        [-0.74774179,  0.39598367],\n",
       "        [-0.95036911,  0.71586795],\n",
       "        ...,\n",
       "        [-0.20658378, -0.21005508],\n",
       "        [-0.47399561,  1.04976624],\n",
       "        [-0.56637526,  0.76046491]]),\n",
       " 'gbx': array([[-0.84805035, -1.33357708],\n",
       "        [-1.2187573 ,  0.64542064],\n",
       "        [-0.52209824,  0.39327183],\n",
       "        ...,\n",
       "        [-1.3154523 , -1.33755628],\n",
       "        [-0.29352558,  0.65007617],\n",
       "        [-0.28354906,  0.38071775]]),\n",
       " 'var_avg': 0.19937357799297611}"
      ]
     },
     "execution_count": 7,
     "metadata": {},
     "output_type": "execute_result"
    }
   ],
   "source": [
    "h2"
   ]
  },
  {
   "cell_type": "code",
   "execution_count": 9,
   "metadata": {},
   "outputs": [],
   "source": [
    "h3 = {\"w\": np.array([]), \"var_vals\": np.array([]), \"w_avg\": 0}\n",
    "\n",
    "for i in range(numpairs):\n",
    "    x = xpairs[i].T\n",
    "    x_num = x.shape[0] \n",
    "    x = np.c_[np.ones(x_num), x]\n",
    "    x_pinv = np.linalg.pinv(x)\n",
    "    y = labels[i].T\n",
    "    w = np.dot(x_pinv, y).flatten()\n",
    "    h3[\"w\"] = np.concatenate((h3[\"w\"],w))\n",
    "    \n",
    "h3[\"w\"] = np.reshape(h3[\"w\"], shape)\n",
    "h3[\"w_avg\"] = np.reshape(np.average(h3[\"w\"], axis=0), (1,2))\n",
    "h3[\"bias_avg\"] = np.average(np.square(np.subtract(yaxis, np.dot(h3[\"w_avg\"], np.c_[np.ones(xn), xaxis].T))))                             \n",
    "\n",
    "for i in range(numpairs):\n",
    "    x = xpairs[i].T\n",
    "    x_m = np.c_[np.ones(x.shape[0]), x].T\n",
    "    w = h3[\"w\"][i]\n",
    "    w = np.reshape(w, (1, 2))\n",
    "    gx = np.dot(w, x_m)\n",
    "    gbar_x = np.multiply(h3[\"w_avg\"], x_m)\n",
    "    var = np.average(np.square(np.subtract(gx, gbar_x)))\n",
    "    h3[\"var_vals\"] = np.concatenate((h3[\"var_vals\"],[var]))\n",
    "\n",
    "h3[\"var_avg\"] = np.average(h3[\"var_vals\"])"
   ]
  },
  {
   "cell_type": "code",
   "execution_count": 10,
   "metadata": {},
   "outputs": [
    {
     "data": {
      "text/plain": [
       "{'w': array([[-2.28367592, -2.22835825],\n",
       "        [ 0.49691712,  1.08513507],\n",
       "        [ 0.04280171,  2.60605599],\n",
       "        ...,\n",
       "        [-3.0752164 , -3.07217871],\n",
       "        [-0.10792592,  2.40316556],\n",
       "        [-0.01785067,  2.85050482]]),\n",
       " 'var_vals': array([0.75138673, 0.20893175, 0.48921888, ..., 0.32492829, 0.29368559,\n",
       "        0.2410903 ]),\n",
       " 'w_avg': array([[-0.01714084,  0.76621436]]),\n",
       " 'bias_avg': 0.20821504516965125,\n",
       " 'var_avg': 0.5767466551761723}"
      ]
     },
     "execution_count": 10,
     "metadata": {},
     "output_type": "execute_result"
    }
   ],
   "source": [
    "h3"
   ]
  },
  {
   "cell_type": "code",
   "execution_count": 11,
   "metadata": {},
   "outputs": [],
   "source": [
    "h4 = {\"w\": np.array([]), \"var_vals\": np.array([]), \"w_avg\": 0}\n",
    "\n",
    "for i in range(numpairs):\n",
    "    x = np.square(xpairs[i].T)\n",
    "    x_pinv = np.linalg.pinv(x)\n",
    "    y = labels[i].T\n",
    "    w = np.dot(x_pinv, y).flatten()\n",
    "    h4[\"w\"] = np.concatenate((h4[\"w\"],w),0)\n",
    "    \n",
    "h4[\"w_avg\"] = np.average(h4[\"w\"])\n",
    "h4[\"bias_avg\"] = np.average(np.square(np.subtract(np.multiply(h4[\"w_avg\"],np.square(xaxis)),yaxis))) \n",
    "\n",
    "h4[\"gx\"] = np.multiply(np.reshape(h4[\"w\"], (numpairs, 1)), np.reshape(np.square(xpairs), (numpairs, 2)))\n",
    "h4[\"gbar_x\"] = np.multiply(h4[\"w_avg\"], np.reshape(np.square(xpairs), (numpairs, 2)))\n",
    "h4[\"var_vals\"] = np.average(np.square(np.subtract(h4[\"gx\"], h4[\"gbar_x\"])),axis = 1)\n",
    "\n",
    "h4[\"var_avg\"] = np.average(h4[\"var_vals\"])"
   ]
  },
  {
   "cell_type": "code",
   "execution_count": 12,
   "metadata": {},
   "outputs": [
    {
     "data": {
      "text/plain": [
       "{'w': array([-0.56568916, -0.19659777, -2.69743338, ..., -0.23896138,\n",
       "         3.98453934,  4.48095997]),\n",
       " 'var_vals': array([0.18241769, 0.02080521, 0.09213767, ..., 0.0726915 , 0.34884614,\n",
       "        0.06542224]),\n",
       " 'w_avg': 0.07062713251887386,\n",
       " 'bias_avg': 0.5009976400322977,\n",
       " 'gx': array([[-0.20131232, -0.49780967],\n",
       "        [-0.14449814, -0.04052411],\n",
       "        [-0.36383495, -0.20643609],\n",
       "        ...,\n",
       "        [-0.20461014, -0.21154417],\n",
       "        [ 0.16987101,  0.8332126 ],\n",
       "        [ 0.17826937,  0.32138569]]),\n",
       " 'gbar_x': array([[0.02513414, 0.06215228],\n",
       "        [0.05191051, 0.01455816],\n",
       "        [0.00952632, 0.00540513],\n",
       "        ...,\n",
       "        [0.06047432, 0.06252374],\n",
       "        [0.00301101, 0.01476894],\n",
       "        [0.00280981, 0.00506556]]),\n",
       " 'var_avg': 0.26225815633824634}"
      ]
     },
     "execution_count": 12,
     "metadata": {},
     "output_type": "execute_result"
    }
   ],
   "source": [
    "h4"
   ]
  },
  {
   "cell_type": "code",
   "execution_count": 18,
   "metadata": {},
   "outputs": [],
   "source": [
    "h5 = {\"w\": np.array([]), \"var_vals\": np.array([]), \"w_avg\": 0}\n",
    "\n",
    "for i in range(numpairs):\n",
    "    x = xpairs[i].T\n",
    "    x_num = x.shape[0]\n",
    "    x = np.c_[np.ones(x_num), np.square(x)]\n",
    "    x_pinv = np.linalg.pinv(x)\n",
    "    y = labels[i].T\n",
    "    w = np.dot(x_pinv, y).flatten()\n",
    "    h5[\"w\"] = np.concatenate((h5[\"w\"],w))\n",
    "    \n",
    "h5[\"w\"] = np.reshape(h5[\"w\"], shape)\n",
    "h5[\"w_avg\"] = np.average(h5[\"w\"], axis=0)\n",
    "\n",
    "\n",
    "h5[\"bias_avg\"] = np.average(np.square(np.subtract(yaxis, np.dot(h5[\"w_avg\"], np.c_[np.ones(xn), np.square(xaxis)].T))))                             \n",
    "\n",
    "for i in range(numpairs):\n",
    "    x = xpairs[i].T\n",
    "    x_m = np.c_[np.ones(x.shape[0]), np.square(x)].T\n",
    "    w = h5[\"w\"][i]\n",
    "    w = np.reshape(w, (1, 2))\n",
    "    gx = np.dot(w, x_m)\n",
    "    gbar_x = np.multiply(h5[\"w_avg\"], x_m)\n",
    "    var = np.average(np.square(np.subtract(gx, gbar_x)))\n",
    "    h5[\"var_vals\"] = np.concatenate((h2[\"var_vals\"],[var]))\n",
    "\n",
    "h5[\"var_avg\"] = np.average(h2[\"var_vals\"])"
   ]
  },
  {
   "cell_type": "code",
   "execution_count": 19,
   "metadata": {},
   "outputs": [
    {
     "data": {
      "text/plain": [
       "{'w': array([[ -1.47109092,   1.45204413],\n",
       "        [  1.5441874 ,  -2.69060211],\n",
       "        [  2.96458837, -28.75770395],\n",
       "        ...,\n",
       "        [ -1.64197414,   1.64620231],\n",
       "        [ -1.01261085,   9.58159761],\n",
       "        [ -2.24552353,  41.70334079]]),\n",
       " 'var_vals': array([ 0.40966847,  0.14203721,  0.1437421 , ...,  0.09616079,\n",
       "         0.11209928, 19.67394293]),\n",
       " 'w_avg': array([ 0.47185381, -7.94237109]),\n",
       " 'bias_avg': 10.84049214423335,\n",
       " 'var_avg': 0.19937357799297611}"
      ]
     },
     "execution_count": 19,
     "metadata": {},
     "output_type": "execute_result"
    }
   ],
   "source": [
    "h5"
   ]
  },
  {
   "cell_type": "code",
   "execution_count": null,
   "metadata": {},
   "outputs": [],
   "source": []
  }
 ],
 "metadata": {
  "kernelspec": {
   "display_name": "Python 3",
   "language": "python",
   "name": "python3"
  },
  "language_info": {
   "codemirror_mode": {
    "name": "ipython",
    "version": 3
   },
   "file_extension": ".py",
   "mimetype": "text/x-python",
   "name": "python",
   "nbconvert_exporter": "python",
   "pygments_lexer": "ipython3",
   "version": "3.7.4"
  }
 },
 "nbformat": 4,
 "nbformat_minor": 4
}
