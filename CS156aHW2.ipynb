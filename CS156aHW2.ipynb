{
 "cells": [
  {
   "cell_type": "markdown",
   "metadata": {},
   "source": [
    "# Problem 1-2"
   ]
  },
  {
   "cell_type": "code",
   "execution_count": 6,
   "metadata": {},
   "outputs": [],
   "source": [
    "import numpy as np\n",
    "import random as rand\n",
    "from tqdm import tqdm"
   ]
  },
  {
   "cell_type": "code",
   "execution_count": 7,
   "metadata": {},
   "outputs": [],
   "source": [
    "# Hoeffding Inequality\n",
    "def FairFlips(num_flips):\n",
    "    #heads = 1, tails = 0\n",
    "    flips = np.random.randint(0, 2, num_flips)\n",
    "    freq_heads = np.average(flips)\n",
    "    return freq_heads\n",
    "def coinflips(num_coins,num_flips):\n",
    "    head_freq = []\n",
    "    for i in range(num_coins):     \n",
    "        head_freq.append(FairFlips(num_flips))\n",
    "    return head_freq\n",
    "def runflips(num_coins,num_flips,num_runs):\n",
    "    runs_freq = []\n",
    "    ave_freq =[]\n",
    "    ave_min = 0\n",
    "    for i in range(num_runs):\n",
    "        runs_freq.append(coinflips(num_coins,num_flips))\n",
    "    lens_coinflips = len(coinflips(num_coins,num_flips))\n",
    "    lens_runs_freq = len(runs_freq)\n",
    "    for x in range(lens_coinflips):\n",
    "        sum_freq_x = 0\n",
    "        for y in range(lens_runs_freq):\n",
    "            sum_freq_x += runs_freq[y][x]\n",
    "        ave__freq_x = (sum_freq_x/num_runs)\n",
    "        ave_freq.append(ave__freq_x)\n",
    "    for z in range(lens_runs_freq):\n",
    "        freq_min = min(runs_freq[z])\n",
    "        ave_min += freq_min    \n",
    "    v1 = ave_freq[0]\n",
    "    vrand = ave_freq[np.random.randint(0, num_coins)]\n",
    "    vmin = ave_min/num_runs\n",
    "    return v1, vrand, vmin"
   ]
  },
  {
   "cell_type": "code",
   "execution_count": 8,
   "metadata": {},
   "outputs": [
    {
     "data": {
      "text/plain": [
       "(0.5041000000000002, 0.4911999999999997, 0.039800000000000293)"
      ]
     },
     "execution_count": 8,
     "metadata": {},
     "output_type": "execute_result"
    }
   ],
   "source": [
    "runflips(1000,10,1000)"
   ]
  },
  {
   "cell_type": "markdown",
   "metadata": {},
   "source": [
    "# Problem 5-7"
   ]
  },
  {
   "cell_type": "code",
   "execution_count": 15,
   "metadata": {},
   "outputs": [],
   "source": [
    "# Create random points and line to classify\n",
    "from sklearn.linear_model import LinearRegression\n",
    "\n",
    "def random_points(coor_x, coor_y, num_points = 100):\n",
    "    array = np.array([[1,1]])\n",
    "    for i in range(num_points):\n",
    "        x, y = np.random.uniform(-1, 1), np.random.uniform(-1, 1)\n",
    "        array = np.concatenate((array, np.array([[x, y]])), axis = 0)\n",
    "    array = np.delete(array,0,0)\n",
    "    coor_x = np.array([(rand.uniform(-1,1)),(rand.uniform(-1,1))])\n",
    "    coor_y = np.array([(rand.uniform(-1,1)),(rand.uniform(-1,1))])\n",
    "    line = np.array([coor_x[1]*coor_y[0]-coor_x[0]*coor_y[1], coor_y[1]-coor_y[0], coor_x[0]-coor_y[1]])\n",
    "        \n",
    "    return array, line"
   ]
  },
  {
   "cell_type": "code",
   "execution_count": 16,
   "metadata": {},
   "outputs": [
    {
     "data": {
      "text/plain": [
       "(array([[-0.81061955, -0.89766124],\n",
       "        [-0.96064387, -0.16134083],\n",
       "        [ 0.24856881,  0.4866667 ],\n",
       "        [-0.33804022, -0.8315102 ],\n",
       "        [-0.28470611, -0.77758488],\n",
       "        [-0.41514256,  0.09238483],\n",
       "        [ 0.77915425, -0.48510668],\n",
       "        [-0.72073537, -0.83397875],\n",
       "        [-0.76333029, -0.89895845],\n",
       "        [-0.01635186, -0.31574102]]),\n",
       " array([-0.26830503, -0.36109204,  1.03960112]))"
      ]
     },
     "execution_count": 16,
     "metadata": {},
     "output_type": "execute_result"
    }
   ],
   "source": [
    "coor_x = np.array([(rand.uniform(-1,1)),(rand.uniform(-1,1))])\n",
    "coor_y = np.array([(rand.uniform(-1,1)),(rand.uniform(-1,1))])\n",
    "random_points(coor_x, coor_y, num_points = 10)"
   ]
  },
  {
   "cell_type": "code",
   "execution_count": null,
   "metadata": {},
   "outputs": [],
   "source": []
  }
 ],
 "metadata": {
  "kernelspec": {
   "display_name": "Python 3",
   "language": "python",
   "name": "python3"
  },
  "language_info": {
   "codemirror_mode": {
    "name": "ipython",
    "version": 3
   },
   "file_extension": ".py",
   "mimetype": "text/x-python",
   "name": "python",
   "nbconvert_exporter": "python",
   "pygments_lexer": "ipython3",
   "version": "3.7.4"
  }
 },
 "nbformat": 4,
 "nbformat_minor": 4
}
