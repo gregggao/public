{
 "cells": [
  {
   "cell_type": "code",
   "execution_count": 207,
   "metadata": {},
   "outputs": [],
   "source": [
    "import numpy as np\n",
    "import random\n",
    "import matplotlib.pyplot as plt"
   ]
  },
  {
   "cell_type": "code",
   "execution_count": 211,
   "metadata": {},
   "outputs": [],
   "source": [
    "def generate_points(N,L):\n",
    "    f = L\n",
    "    Dataset = []\n",
    "    for i in range(N):\n",
    "        x1,x2 = [random.uniform(-1, 1) for i in range(2)]\n",
    "        x = np.array([1,x1,x2])\n",
    "        s = int(np.sign(np.dot(x,f)))\n",
    "        Dataset.append((x, s))\n",
    "    return Dataset\n",
    "\n",
    "def error(X,L, pts=0):\n",
    "        Dataset = X\n",
    "        if not pts: \n",
    "            pts = Dataset\n",
    "        M = len(pts)\n",
    "        num_mispts = 0\n",
    "        for x,s in pts:\n",
    "            if int(np.sign(np.dot(x,L))) != s:\n",
    "                num_mispts += 1\n",
    "        return  num_mispts     \n",
    "def error_point(X,L):\n",
    "        pts = X\n",
    "        mispts = []\n",
    "        for x,s in pts:\n",
    "            if int(np.sign(np.dot(x,L))) != s:\n",
    "                mispts.append((x, s))\n",
    "        return mispts[random.randrange(0,len(mispts))]\n",
    "\n",
    "def plot (X,L0,L1):\n",
    "    #This is for myself#\n",
    "    f = L0\n",
    "    g = L1\n",
    "    Dataset_1 = X\n",
    "    fig = plt.figure(figsize=(10,10))\n",
    "    plt.xlim(-1,1)\n",
    "    plt.ylim(-1,1)\n",
    "    a, b = -f[1]/f[2], -f[0]/f[2]\n",
    "    c, d = -g[1]/g[2], -g[0]/g[2]\n",
    "    l = np.linspace(-1,1)\n",
    "    cols = {1: 'r', -1: 'b'}\n",
    "    for x,s in Dataset_1:\n",
    "        plt.plot(x[1], x[2], cols[s]+'o')\n",
    "        plt.plot(l, a*l+b, 'k-')\n",
    "        plt.plot(l, c*l+d, 'g-')\n",
    "\n",
    "def pla(X):\n",
    "    xA,yA,xB,yB = [random.uniform(-1, 1) for i in range(4)]\n",
    "    f = np.array([xB*yA-xA*yB, yB-yA, xA-xB])\n",
    "    xC,yC,xD,yD = [random.uniform(-1, 1) for i in range(4)]\n",
    "    h = np.array([xD*yC-xC*yD, yD-yC, xC-xD])\n",
    "    Dataset_1 = generate_points(X,f)\n",
    "    it = 0\n",
    "    while error(Dataset_1,h) != 0:\n",
    "        it += 1\n",
    "        x, s = error_point(Dataset_1,h)[0],error_point(Dataset_1,h)[1]\n",
    "        h += s*x\n",
    "    g = h\n",
    "    return f,g,it,Dataset_1\n",
    "\n",
    "def ave_it(N,X):\n",
    "    Datasize = X\n",
    "    Runs = N\n",
    "    num_it_array = []\n",
    "    for i in range (Runs):\n",
    "        num_it_array.append(pla(Datasize)[2])\n",
    "    return sum(num_it_array)/len(num_it_array)\n",
    "\n",
    "def prob (N,X):\n",
    "    Datasize = X\n",
    "    Runs = N\n",
    "    disagreement = 0\n",
    "    for i in range (Runs):\n",
    "        X = pla(Datasize)\n",
    "        Data = X[3]\n",
    "        f = X[0]\n",
    "        g = X[1]\n",
    "        if not np.array_equal(f,g):\n",
    "            disagreement += 1\n",
    "    return disagreement/Runs"
   ]
  },
  {
   "cell_type": "code",
   "execution_count": 212,
   "metadata": {},
   "outputs": [
    {
     "data": {
      "text/plain": [
       "33.087"
      ]
     },
     "execution_count": 212,
     "metadata": {},
     "output_type": "execute_result"
    }
   ],
   "source": [
    "ave_it(1000,10)"
   ]
  },
  {
   "cell_type": "raw",
   "metadata": {},
   "source": []
  },
  {
   "cell_type": "code",
   "execution_count": 213,
   "metadata": {},
   "outputs": [
    {
     "data": {
      "text/plain": [
       "1.0"
      ]
     },
     "execution_count": 213,
     "metadata": {},
     "output_type": "execute_result"
    }
   ],
   "source": [
    "prob(1000,10)"
   ]
  },
  {
   "cell_type": "code",
   "execution_count": null,
   "metadata": {},
   "outputs": [],
   "source": []
  },
  {
   "cell_type": "code",
   "execution_count": null,
   "metadata": {},
   "outputs": [],
   "source": []
  },
  {
   "cell_type": "code",
   "execution_count": null,
   "metadata": {},
   "outputs": [],
   "source": []
  }
 ],
 "metadata": {
  "kernelspec": {
   "display_name": "Python 3",
   "language": "python",
   "name": "python3"
  },
  "language_info": {
   "codemirror_mode": {
    "name": "ipython",
    "version": 3
   },
   "file_extension": ".py",
   "mimetype": "text/x-python",
   "name": "python",
   "nbconvert_exporter": "python",
   "pygments_lexer": "ipython3",
   "version": "3.7.4"
  }
 },
 "nbformat": 4,
 "nbformat_minor": 4
}
