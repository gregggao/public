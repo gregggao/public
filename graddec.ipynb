{
 "cells": [
  {
   "cell_type": "code",
   "execution_count": 58,
   "metadata": {},
   "outputs": [],
   "source": [
    "import math\n",
    "import numpy as np"
   ]
  },
  {
   "cell_type": "code",
   "execution_count": 104,
   "metadata": {},
   "outputs": [],
   "source": [
    "def error_in(coords):\n",
    "    u = coords[0]\n",
    "    v = coords[1]\n",
    "    error = math.pow(u*math.pow(math.e, v) - 2.0*v*math.pow(math.e, -1 * u), 2.0)\n",
    "    error = np.float64(error)\n",
    "    return error\n",
    "\n",
    "def partial_diff(coords):\n",
    "    u = coords[0]\n",
    "    v = coords[1]\n",
    "    u_coord = 2.0*(math.pow(math.e, v) + 2.0*v*math.pow(math.e, -1 * u)) * (u*math.pow(math.e,v) - 2.0*v*math.pow(math.e, -1 * u))\n",
    "    v_coord = 2.0*(u*math.pow(math.e, v) - 2.0*math.pow(math.e, -1 * u))*(u*math.pow(math.e, v) - 2*v*math.pow(math.e, -1 * u))\n",
    "    return np.array([u_coord, v_coord])\n",
    "\n",
    "def grad_des(coords, l_rate, threshold):\n",
    "    num_iterations = 0\n",
    "    error = error_in(coords)\n",
    "    while error >= threshold:\n",
    "        num_iterations = num_iterations + 1\n",
    "        partial = partial_diff(coords)\n",
    "        coords = np.subtract(coords, np.multiply(l_rate, partial))\n",
    "        error = error_in(coords)\n",
    "    return coords, error, num_iterations"
   ]
  },
  {
   "cell_type": "code",
   "execution_count": 105,
   "metadata": {},
   "outputs": [],
   "source": [
    "thresh = 10e-14\n",
    "lrate = 0.1\n",
    "start = np.array([1,1])\n",
    "\n",
    "coords, error, iters = grad_des(start, lrate, thresh)"
   ]
  },
  {
   "cell_type": "code",
   "execution_count": 106,
   "metadata": {},
   "outputs": [
    {
     "name": "stdout",
     "output_type": "stream",
     "text": [
      "1.2086833944220747e-15 10 [0.04473629 0.02395871]\n"
     ]
    }
   ],
   "source": [
    "print(error,iters,coords)"
   ]
  },
  {
   "cell_type": "code",
   "execution_count": 88,
   "metadata": {},
   "outputs": [],
   "source": [
    "def steps_grad_des(coords, l_rate, iters):\n",
    "    error = 0\n",
    "    for i in range(iters):\n",
    "        partial = partial_diff(coords)\n",
    "        coords = np.subtract(coords, np.multiply(l_rate, np.multiply(np.array([1,0]), partial)))\n",
    "        partial = partial_diff(coords)\n",
    "        coords = np.subtract(coords, np.multiply(l_rate, np.multiply(np.array([0,1]), partial)))\n",
    "        error = error_in(coords)\n",
    "    return coords, error"
   ]
  },
  {
   "cell_type": "code",
   "execution_count": 89,
   "metadata": {},
   "outputs": [
    {
     "data": {
      "text/plain": [
       "(array([ 6.2970759 , -2.85230695]), 0.13981379199615324)"
      ]
     },
     "execution_count": 89,
     "metadata": {},
     "output_type": "execute_result"
    }
   ],
   "source": [
    "iternum = 15\n",
    "steps_grad_des(start,lrate,iternum)"
   ]
  },
  {
   "cell_type": "code",
   "execution_count": 56,
   "metadata": {},
   "outputs": [],
   "source": []
  },
  {
   "cell_type": "code",
   "execution_count": null,
   "metadata": {},
   "outputs": [],
   "source": []
  },
  {
   "cell_type": "code",
   "execution_count": null,
   "metadata": {},
   "outputs": [],
   "source": []
  },
  {
   "cell_type": "code",
   "execution_count": null,
   "metadata": {},
   "outputs": [],
   "source": []
  },
  {
   "cell_type": "code",
   "execution_count": null,
   "metadata": {},
   "outputs": [],
   "source": []
  }
 ],
 "metadata": {
  "kernelspec": {
   "display_name": "Python 3",
   "language": "python",
   "name": "python3"
  },
  "language_info": {
   "codemirror_mode": {
    "name": "ipython",
    "version": 3
   },
   "file_extension": ".py",
   "mimetype": "text/x-python",
   "name": "python",
   "nbconvert_exporter": "python",
   "pygments_lexer": "ipython3",
   "version": "3.7.4"
  }
 },
 "nbformat": 4,
 "nbformat_minor": 4
}
