{
 "cells": [
  {
   "cell_type": "code",
   "execution_count": 8,
   "metadata": {},
   "outputs": [],
   "source": [
    "import numpy as np"
   ]
  },
  {
   "cell_type": "code",
   "execution_count": 9,
   "metadata": {},
   "outputs": [],
   "source": [
    "class LinReg:\n",
    "    def __init__(self, dim):\n",
    "        self.dim = max(1, dim)\n",
    "        self.weights = np.zeros((1+dim,1)) #adding one for offset\n",
    "\n",
    "    def X_reshape(self,X):\n",
    "        num_examples = X.shape[0]\n",
    "        real_X = np.c_[np.ones(num_examples), X]\n",
    "        return real_X\n",
    "    \n",
    "    def predict(self,X):\n",
    "        real_X = self.X_reshape(X)\n",
    "        cur_h = np.matmul(real_X, self.weights)\n",
    "        return cur_h\n",
    "\n",
    "    def train(self,X,Y):\n",
    "        #for the sake of programming ease, let's just assume inputs are numpy ndarrays\n",
    "        #and are the proper shapes (X = (n, dim), y = (n,1))\n",
    "        real_X = self.X_reshape(X)\n",
    "        pinv_X = np.linalg.pinv(real_X)\n",
    "        self.weights = np.dot(pinv_X,Y)"
   ]
  },
  {
   "cell_type": "code",
   "execution_count": null,
   "metadata": {},
   "outputs": [],
   "source": []
  },
  {
   "cell_type": "code",
   "execution_count": 10,
   "metadata": {},
   "outputs": [],
   "source": [
    "class Line:\n",
    "    def __init__(self, p1, p2):\n",
    "        #input: 2 2-dim numpy arrays\n",
    "        self.p1 = p1\n",
    "        self.p2 = p2\n",
    "        diff = np.subtract(p2, p1)\n",
    "        if diff[0] <= 0.001:\n",
    "            #if vertical (or close to it), just set slope to none\n",
    "            self.slope = None\n",
    "            self.is_vert = True\n",
    "        else:\n",
    "            self.slope = diff[1]/diff[0]\n",
    "            self.is_vert = False\n",
    "        #point slope form = y - y1 = m(x - x1) \n",
    "        #y = 0 -> -y1 = m(x - x1) -> -y1/m = x - x1 -> (-y1/m) + x1 = x\n",
    "        if not self.is_vert:\n",
    "            self.y_int = ((-1 * p1[1])/self.slope) + p1[0]\n",
    "\n",
    "        \n",
    "    def calc(self,testpt):\n",
    "        #input: numpy array with 2 dim\n",
    "        #goal: test against equation of line, if above, then return +1\n",
    "        #if on line 0, else -1\n",
    "        #to check:\n",
    "        #if vertical, check against x, else check against y\n",
    "\n",
    "        #slope-intercept: y = mx + b or (y-b)/m = x\n",
    "        if self.is_vert == False:\n",
    "            line_y = self.slope*testpt[0] + self.y_int\n",
    "            diff = testpt[1] - line_y\n",
    "        else:\n",
    "            line_x = self.p1[0]\n",
    "            diff = testpt[0] - line_x\n",
    "        return np.sign(diff)\n",
    "\n",
    "#E_in(w) = (1/N)*L2norm(X*w-y)\n",
    "class LRtest:        \n",
    "    def __init__(self, numpoints):\n",
    "        self.n = numpoints\n",
    "        self.points = np.random.uniform(-1.0,1.0,(self.n, 2))\n",
    "        p = [np.random.uniform(-1.0,1.0,2) for x in range(2)]\n",
    "        while p[0][0] == p[1][0] and p[0][1] == p[1][1]:\n",
    "            p = [np.random.uniform(-1.0,1.0,2) for x in range(2)]\n",
    "        self.target = Line(p[0],p[1])\n",
    "        self.labels = np.array([self.target.calc(x) for x in self.points])\n",
    "        self.lr = LinReg(2)\n",
    "\n",
    "    def regen_points(self, numpoints):\n",
    "        self.n = numpoints\n",
    "        self.points = np.random.uniform(-1.0,1.0,(self.n, 2))\n",
    "        self.labels = np.array([self.target.calc(x) for x in self.points])\n",
    "\n",
    "    def train(self):\n",
    "        self.lr.train(self.points, self.labels)\n",
    "        \n",
    "    def e_in(self):\n",
    "        xw = self.lr.predict(self.points)\n",
    "        xw = np.sign(xw)\n",
    "        mydiff = np.not_equal(xw, self.labels)\n",
    "        e_in = np.mean(mydiff)\n",
    "        #print(e_in)\n",
    "        #e_in = np.multiply(1.0/float(self.n), mydiff)\n",
    "        return e_in"
   ]
  },
  {
   "cell_type": "code",
   "execution_count": 13,
   "metadata": {},
   "outputs": [],
   "source": [
    "def prob(num_exp):\n",
    "    n1 = 100\n",
    "    n2 = 1000\n",
    "    n_pla = 10\n",
    "    ein = np.array([])\n",
    "    eout = np.array([])\n",
    "    iters = np.array([])\n",
    "    for i in range(num_exp):\n",
    "        cur_lr = LRtest(n1)\n",
    "        cur_lr.train()\n",
    "        cur_ein = cur_lr.e_in()\n",
    "        ein = np.concatenate((ein,[cur_ein]))\n",
    "        cur_lr.regen_points(n2)\n",
    "        cur_eout = cur_lr.e_in()\n",
    "        eout = np.concatenate((eout,[cur_eout]))\n",
    "        \n",
    "    ein_avg = np.average(ein)\n",
    "    eout_avg = np.average(eout)\n",
    "  \n",
    "    print(\"e_in average: %f\" % ein_avg)\n",
    "    print(\"e_out average: %f\" % eout_avg)\n",
    " "
   ]
  },
  {
   "cell_type": "code",
   "execution_count": 16,
   "metadata": {},
   "outputs": [
    {
     "name": "stdout",
     "output_type": "stream",
     "text": [
      "e_in average: 0.034340\n",
      "e_out average: 0.041693\n"
     ]
    }
   ],
   "source": [
    "prob(1000)"
   ]
  },
  {
   "cell_type": "code",
   "execution_count": null,
   "metadata": {},
   "outputs": [],
   "source": []
  }
 ],
 "metadata": {
  "kernelspec": {
   "display_name": "Python 3",
   "language": "python",
   "name": "python3"
  },
  "language_info": {
   "codemirror_mode": {
    "name": "ipython",
    "version": 3
   },
   "file_extension": ".py",
   "mimetype": "text/x-python",
   "name": "python",
   "nbconvert_exporter": "python",
   "pygments_lexer": "ipython3",
   "version": "3.7.4"
  }
 },
 "nbformat": 4,
 "nbformat_minor": 4
}
