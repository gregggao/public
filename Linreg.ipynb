{
 "cells": [
  {
   "cell_type": "code",
   "execution_count": 6,
   "metadata": {},
   "outputs": [],
   "source": [
    "import numpy as np"
   ]
  },
  {
   "cell_type": "code",
   "execution_count": 7,
   "metadata": {},
   "outputs": [],
   "source": [
    "class LinReg:\n",
    "    def __init__(self, dim):\n",
    "        self.dim = max(1, dim)\n",
    "        self.weights = np.zeros((1+dim,1)) #adding one for offset\n",
    "\n",
    "    def X_reshape(self,X):\n",
    "        num_examples = X.shape[0]\n",
    "        real_X = np.c_[np.ones(num_examples), X]\n",
    "        return real_X\n",
    "\n",
    "    def train(self,X,Y):\n",
    "        real_X = self.X_reshape(X)\n",
    "        pinv_X = np.linalg.pinv(real_X)\n",
    "        self.weights = np.dot(pinv_X,Y)\n",
    "        \n",
    "    def predict(self,X):\n",
    "        real_X = self.X_reshape(X)\n",
    "        cur_h = np.matmul(real_X, self.weights)\n",
    "        return cur_h"
   ]
  },
  {
   "cell_type": "code",
   "execution_count": 8,
   "metadata": {},
   "outputs": [],
   "source": [
    "class Line:\n",
    "    def __init__(self, p1, p2):\n",
    "        #input: 2 2-dim numpy arrays\n",
    "        self.p1 = p1\n",
    "        self.p2 = p2\n",
    "        diff = np.subtract(p2, p1)\n",
    "        if diff[0] <= 0.00001:\n",
    "            #if vertical (or close to it), just set slope to none\n",
    "            #y = mx+b\n",
    "            self.m = None\n",
    "            self.vert = True\n",
    "        else:\n",
    "            self.m = diff[1]/diff[0]\n",
    "            self.vert = False\n",
    "        #point slope form = y - y1 = m(x - x1) \n",
    "        if not self.vert:\n",
    "            self.b = ((-1 * p1[1])/self.m) + p1[0]\n",
    "    def label(self,testpt):\n",
    "        #input: numpy array with 2 dim\n",
    "        #if vertical, check against x, else check against y\n",
    "        if self.vert == False:\n",
    "            line_y = self.m*testpt[0] + self.b\n",
    "            diff = testpt[1] - line_y\n",
    "        else:\n",
    "            line_x = self.p1[0]\n",
    "            diff = testpt[0] - line_x\n",
    "        return np.sign(diff)"
   ]
  },
  {
   "cell_type": "code",
   "execution_count": 9,
   "metadata": {},
   "outputs": [],
   "source": [
    "class LRtest:        \n",
    "    def __init__(self, numpoints):\n",
    "        self.n = numpoints\n",
    "        self.lr = LinReg(2)\n",
    "        self.points = np.random.uniform(-1.0,1.0,(self.n, 2))\n",
    "        p12 = [np.random.uniform(-1.0,1.0,2) for x in range(2)]\n",
    "        self.target = Line(p12[0],p12[1])\n",
    "        while p12[0][0] == p12[1][0] and p12[0][1] == p12[1][1]:\n",
    "            p12 = [np.random.uniform(-1.0,1.0,2) for x in range(2)]       \n",
    "        self.labels = np.array([self.target.label(x) for x in self.points])\n",
    "    def train(self):\n",
    "        self.lr.train(self.points, self.labels)\n",
    "    #E_in(w) = (1/N)*L2norm(X*w-y)\n",
    "    def e_in(self):\n",
    "        xw = self.lr.predict(self.points)\n",
    "        xw = np.sign(xw)\n",
    "        mydiff = np.not_equal(xw, self.labels)\n",
    "        e_in = np.mean(mydiff)\n",
    "        return e_in"
   ]
  },
  {
   "cell_type": "code",
   "execution_count": 10,
   "metadata": {},
   "outputs": [],
   "source": [
    "def prob(num_exp):\n",
    "    n = 100\n",
    "    ein = np.array([])\n",
    "    for i in range(num_exp):\n",
    "        cur_lr = LRtest(n)\n",
    "        cur_lr.train()\n",
    "        cur_ein = cur_lr.e_in()\n",
    "        ein = np.concatenate((ein,[cur_ein]))\n",
    "    ein_avg = np.average(ein)\n",
    "\n",
    "  \n",
    "    print(\"e_in average: %f\" % ein_avg)"
   ]
  },
  {
   "cell_type": "code",
   "execution_count": 11,
   "metadata": {},
   "outputs": [
    {
     "name": "stdout",
     "output_type": "stream",
     "text": [
      "e_in average: 0.036900\n"
     ]
    }
   ],
   "source": [
    "prob(100)"
   ]
  },
  {
   "cell_type": "code",
   "execution_count": null,
   "metadata": {},
   "outputs": [],
   "source": []
  }
 ],
 "metadata": {
  "kernelspec": {
   "display_name": "Python 3",
   "language": "python",
   "name": "python3"
  },
  "language_info": {
   "codemirror_mode": {
    "name": "ipython",
    "version": 3
   },
   "file_extension": ".py",
   "mimetype": "text/x-python",
   "name": "python",
   "nbconvert_exporter": "python",
   "pygments_lexer": "ipython3",
   "version": "3.7.4"
  }
 },
 "nbformat": 4,
 "nbformat_minor": 4
}
